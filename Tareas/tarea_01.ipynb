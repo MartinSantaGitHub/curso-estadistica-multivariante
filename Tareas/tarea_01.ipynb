{
  "nbformat": 4,
  "nbformat_minor": 0,
  "metadata": {
    "colab": {
      "name": "tarea_01.ipynb",
      "provenance": [],
      "collapsed_sections": [],
      "authorship_tag": "ABX9TyOJucbuDg6t4dnY/F0fyPnH",
      "include_colab_link": true
    },
    "kernelspec": {
      "name": "python3",
      "display_name": "Python 3"
    },
    "language_info": {
      "name": "python"
    }
  },
  "cells": [
    {
      "cell_type": "markdown",
      "metadata": {
        "id": "view-in-github",
        "colab_type": "text"
      },
      "source": [
        "<a href=\"https://colab.research.google.com/github/MartinSantaGitHub/curso-estadistica-multivariante/blob/master/Tareas/tarea_01.ipynb\" target=\"_parent\"><img src=\"https://colab.research.google.com/assets/colab-badge.svg\" alt=\"Open In Colab\"/></a>"
      ]
    },
    {
      "cell_type": "code",
      "metadata": {
        "id": "uHIKDSpF9771"
      },
      "source": [
        "import numpy as np \n",
        "import scipy as sc\n",
        "import pandas as pd \n",
        "import seaborn as sns\n",
        "import matplotlib.pyplot as plt\n",
        "import plotly.express as px\n",
        "from math import pi\n",
        "from pandas.plotting import scatter_matrix\n",
        "from pandas.plotting import andrews_curves"
      ],
      "execution_count": 1,
      "outputs": []
    },
    {
      "cell_type": "code",
      "metadata": {
        "id": "jaBHvpUZ-IA2"
      },
      "source": [
        "df = pd.read_csv('https://raw.githubusercontent.com/MartinSantaGitHub/curso-estadistica-multivariante/master/Datos/companies79.csv')"
      ],
      "execution_count": 2,
      "outputs": []
    },
    {
      "cell_type": "code",
      "metadata": {
        "colab": {
          "base_uri": "https://localhost:8080/",
          "height": 196
        },
        "id": "yF7Ue3L8-awT",
        "outputId": "385a13e0-aa71-47a0-9e4d-9bdb76adfd1a"
      },
      "source": [
        "df.head()"
      ],
      "execution_count": 3,
      "outputs": [
        {
          "output_type": "execute_result",
          "data": {
            "text/html": [
              "<div>\n",
              "<style scoped>\n",
              "    .dataframe tbody tr th:only-of-type {\n",
              "        vertical-align: middle;\n",
              "    }\n",
              "\n",
              "    .dataframe tbody tr th {\n",
              "        vertical-align: top;\n",
              "    }\n",
              "\n",
              "    .dataframe thead th {\n",
              "        text-align: right;\n",
              "    }\n",
              "</style>\n",
              "<table border=\"1\" class=\"dataframe\">\n",
              "  <thead>\n",
              "    <tr style=\"text-align: right;\">\n",
              "      <th></th>\n",
              "      <th>Unnamed: 0</th>\n",
              "      <th>V1</th>\n",
              "      <th>V2</th>\n",
              "      <th>V3</th>\n",
              "      <th>V4</th>\n",
              "      <th>V5</th>\n",
              "      <th>V6</th>\n",
              "      <th>V7</th>\n",
              "      <th>V8</th>\n",
              "    </tr>\n",
              "  </thead>\n",
              "  <tbody>\n",
              "    <tr>\n",
              "      <th>0</th>\n",
              "      <td>1</td>\n",
              "      <td>BellAtlantic</td>\n",
              "      <td>19788</td>\n",
              "      <td>9084</td>\n",
              "      <td>10636</td>\n",
              "      <td>1092.9</td>\n",
              "      <td>2576.8</td>\n",
              "      <td>79.4</td>\n",
              "      <td>Communication</td>\n",
              "    </tr>\n",
              "    <tr>\n",
              "      <th>1</th>\n",
              "      <td>2</td>\n",
              "      <td>ContinentalTelecom</td>\n",
              "      <td>5074</td>\n",
              "      <td>2557</td>\n",
              "      <td>1892</td>\n",
              "      <td>239.9</td>\n",
              "      <td>578.3</td>\n",
              "      <td>21.9</td>\n",
              "      <td>Communication</td>\n",
              "    </tr>\n",
              "    <tr>\n",
              "      <th>2</th>\n",
              "      <td>3</td>\n",
              "      <td>AmericanElectricPower</td>\n",
              "      <td>13621</td>\n",
              "      <td>4848</td>\n",
              "      <td>4572</td>\n",
              "      <td>485.0</td>\n",
              "      <td>898.9</td>\n",
              "      <td>23.4</td>\n",
              "      <td>Energy</td>\n",
              "    </tr>\n",
              "    <tr>\n",
              "      <th>3</th>\n",
              "      <td>4</td>\n",
              "      <td>BrooklynUnionGas</td>\n",
              "      <td>1117</td>\n",
              "      <td>1038</td>\n",
              "      <td>478</td>\n",
              "      <td>59.7</td>\n",
              "      <td>91.7</td>\n",
              "      <td>3.8</td>\n",
              "      <td>Energy</td>\n",
              "    </tr>\n",
              "    <tr>\n",
              "      <th>4</th>\n",
              "      <td>5</td>\n",
              "      <td>CentralIllinoisPublicService</td>\n",
              "      <td>1633</td>\n",
              "      <td>701</td>\n",
              "      <td>679</td>\n",
              "      <td>74.3</td>\n",
              "      <td>135.9</td>\n",
              "      <td>2.8</td>\n",
              "      <td>Energy</td>\n",
              "    </tr>\n",
              "  </tbody>\n",
              "</table>\n",
              "</div>"
            ],
            "text/plain": [
              "   Unnamed: 0                            V1     V2  ...      V6    V7             V8\n",
              "0           1                  BellAtlantic  19788  ...  2576.8  79.4  Communication\n",
              "1           2            ContinentalTelecom   5074  ...   578.3  21.9  Communication\n",
              "2           3         AmericanElectricPower  13621  ...   898.9  23.4         Energy\n",
              "3           4              BrooklynUnionGas   1117  ...    91.7   3.8         Energy\n",
              "4           5  CentralIllinoisPublicService   1633  ...   135.9   2.8         Energy\n",
              "\n",
              "[5 rows x 9 columns]"
            ]
          },
          "metadata": {
            "tags": []
          },
          "execution_count": 3
        }
      ]
    },
    {
      "cell_type": "code",
      "metadata": {
        "colab": {
          "base_uri": "https://localhost:8080/"
        },
        "id": "wueeand_-fmz",
        "outputId": "68cb5b9b-cb24-4dc2-9a89-bb9cdd81f647"
      },
      "source": [
        "df.shape"
      ],
      "execution_count": 4,
      "outputs": [
        {
          "output_type": "execute_result",
          "data": {
            "text/plain": [
              "(79, 9)"
            ]
          },
          "metadata": {
            "tags": []
          },
          "execution_count": 4
        }
      ]
    },
    {
      "cell_type": "code",
      "metadata": {
        "colab": {
          "base_uri": "https://localhost:8080/"
        },
        "id": "i-c83s55-izt",
        "outputId": "5d73266e-b588-4ddd-8a04-9c93a67fc49d"
      },
      "source": [
        "df.info()"
      ],
      "execution_count": 7,
      "outputs": [
        {
          "output_type": "stream",
          "text": [
            "<class 'pandas.core.frame.DataFrame'>\n",
            "RangeIndex: 79 entries, 0 to 78\n",
            "Data columns (total 9 columns):\n",
            " #   Column      Non-Null Count  Dtype  \n",
            "---  ------      --------------  -----  \n",
            " 0   Unnamed: 0  79 non-null     int64  \n",
            " 1   V1          79 non-null     object \n",
            " 2   V2          79 non-null     int64  \n",
            " 3   V3          79 non-null     int64  \n",
            " 4   V4          79 non-null     int64  \n",
            " 5   V5          79 non-null     float64\n",
            " 6   V6          79 non-null     float64\n",
            " 7   V7          79 non-null     float64\n",
            " 8   V8          79 non-null     object \n",
            "dtypes: float64(3), int64(4), object(2)\n",
            "memory usage: 5.7+ KB\n"
          ],
          "name": "stdout"
        }
      ]
    },
    {
      "cell_type": "code",
      "metadata": {
        "id": "95umqJjG-wXB"
      },
      "source": [
        ""
      ],
      "execution_count": null,
      "outputs": []
    },
    {
      "cell_type": "code",
      "metadata": {
        "id": "h4GkH9kZ-yme"
      },
      "source": [
        ""
      ],
      "execution_count": null,
      "outputs": []
    },
    {
      "cell_type": "code",
      "metadata": {
        "id": "RyrmopdQ-0wQ"
      },
      "source": [
        ""
      ],
      "execution_count": null,
      "outputs": []
    }
  ]
}