{
  "nbformat": 4,
  "nbformat_minor": 0,
  "metadata": {
    "colab": {
      "name": "tarea_01.ipynb",
      "provenance": [],
      "collapsed_sections": [],
      "authorship_tag": "ABX9TyNji6Je+8fZ4LaDOTvNFsis",
      "include_colab_link": true
    },
    "kernelspec": {
      "name": "python3",
      "display_name": "Python 3"
    },
    "language_info": {
      "name": "python"
    }
  },
  "cells": [
    {
      "cell_type": "markdown",
      "metadata": {
        "id": "view-in-github",
        "colab_type": "text"
      },
      "source": [
        "<a href=\"https://colab.research.google.com/github/MartinSantaGitHub/curso-estadistica-multivariante/blob/master/Tareas/tarea_01.ipynb\" target=\"_parent\"><img src=\"https://colab.research.google.com/assets/colab-badge.svg\" alt=\"Open In Colab\"/></a>"
      ]
    },
    {
      "cell_type": "code",
      "metadata": {
        "id": "uHIKDSpF9771"
      },
      "source": [
        "import numpy as np \n",
        "import scipy as sc\n",
        "import pandas as pd \n",
        "import seaborn as sns\n",
        "import matplotlib.pyplot as plt\n",
        "import plotly.express as px\n",
        "from math import pi\n",
        "from pandas.plotting import scatter_matrix\n",
        "from pandas.plotting import andrews_curves\n",
        "from sklearn.preprocessing import StandardScaler"
      ],
      "execution_count": 28,
      "outputs": []
    },
    {
      "cell_type": "code",
      "metadata": {
        "id": "jaBHvpUZ-IA2"
      },
      "source": [
        "df = pd.read_csv('https://raw.githubusercontent.com/MartinSantaGitHub/curso-estadistica-multivariante/master/Datos/companies79.csv')"
      ],
      "execution_count": 2,
      "outputs": []
    },
    {
      "cell_type": "code",
      "metadata": {
        "colab": {
          "base_uri": "https://localhost:8080/",
          "height": 196
        },
        "id": "yF7Ue3L8-awT",
        "outputId": "8c33adc4-afb2-4aa0-97b0-e12a6e404732"
      },
      "source": [
        "df.head()"
      ],
      "execution_count": 3,
      "outputs": [
        {
          "output_type": "execute_result",
          "data": {
            "text/html": [
              "<div>\n",
              "<style scoped>\n",
              "    .dataframe tbody tr th:only-of-type {\n",
              "        vertical-align: middle;\n",
              "    }\n",
              "\n",
              "    .dataframe tbody tr th {\n",
              "        vertical-align: top;\n",
              "    }\n",
              "\n",
              "    .dataframe thead th {\n",
              "        text-align: right;\n",
              "    }\n",
              "</style>\n",
              "<table border=\"1\" class=\"dataframe\">\n",
              "  <thead>\n",
              "    <tr style=\"text-align: right;\">\n",
              "      <th></th>\n",
              "      <th>Unnamed: 0</th>\n",
              "      <th>V1</th>\n",
              "      <th>V2</th>\n",
              "      <th>V3</th>\n",
              "      <th>V4</th>\n",
              "      <th>V5</th>\n",
              "      <th>V6</th>\n",
              "      <th>V7</th>\n",
              "      <th>V8</th>\n",
              "    </tr>\n",
              "  </thead>\n",
              "  <tbody>\n",
              "    <tr>\n",
              "      <th>0</th>\n",
              "      <td>1</td>\n",
              "      <td>BellAtlantic</td>\n",
              "      <td>19788</td>\n",
              "      <td>9084</td>\n",
              "      <td>10636</td>\n",
              "      <td>1092.9</td>\n",
              "      <td>2576.8</td>\n",
              "      <td>79.4</td>\n",
              "      <td>Communication</td>\n",
              "    </tr>\n",
              "    <tr>\n",
              "      <th>1</th>\n",
              "      <td>2</td>\n",
              "      <td>ContinentalTelecom</td>\n",
              "      <td>5074</td>\n",
              "      <td>2557</td>\n",
              "      <td>1892</td>\n",
              "      <td>239.9</td>\n",
              "      <td>578.3</td>\n",
              "      <td>21.9</td>\n",
              "      <td>Communication</td>\n",
              "    </tr>\n",
              "    <tr>\n",
              "      <th>2</th>\n",
              "      <td>3</td>\n",
              "      <td>AmericanElectricPower</td>\n",
              "      <td>13621</td>\n",
              "      <td>4848</td>\n",
              "      <td>4572</td>\n",
              "      <td>485.0</td>\n",
              "      <td>898.9</td>\n",
              "      <td>23.4</td>\n",
              "      <td>Energy</td>\n",
              "    </tr>\n",
              "    <tr>\n",
              "      <th>3</th>\n",
              "      <td>4</td>\n",
              "      <td>BrooklynUnionGas</td>\n",
              "      <td>1117</td>\n",
              "      <td>1038</td>\n",
              "      <td>478</td>\n",
              "      <td>59.7</td>\n",
              "      <td>91.7</td>\n",
              "      <td>3.8</td>\n",
              "      <td>Energy</td>\n",
              "    </tr>\n",
              "    <tr>\n",
              "      <th>4</th>\n",
              "      <td>5</td>\n",
              "      <td>CentralIllinoisPublicService</td>\n",
              "      <td>1633</td>\n",
              "      <td>701</td>\n",
              "      <td>679</td>\n",
              "      <td>74.3</td>\n",
              "      <td>135.9</td>\n",
              "      <td>2.8</td>\n",
              "      <td>Energy</td>\n",
              "    </tr>\n",
              "  </tbody>\n",
              "</table>\n",
              "</div>"
            ],
            "text/plain": [
              "   Unnamed: 0                            V1     V2  ...      V6    V7             V8\n",
              "0           1                  BellAtlantic  19788  ...  2576.8  79.4  Communication\n",
              "1           2            ContinentalTelecom   5074  ...   578.3  21.9  Communication\n",
              "2           3         AmericanElectricPower  13621  ...   898.9  23.4         Energy\n",
              "3           4              BrooklynUnionGas   1117  ...    91.7   3.8         Energy\n",
              "4           5  CentralIllinoisPublicService   1633  ...   135.9   2.8         Energy\n",
              "\n",
              "[5 rows x 9 columns]"
            ]
          },
          "metadata": {
            "tags": []
          },
          "execution_count": 3
        }
      ]
    },
    {
      "cell_type": "code",
      "metadata": {
        "colab": {
          "base_uri": "https://localhost:8080/"
        },
        "id": "wueeand_-fmz",
        "outputId": "54cf2139-44e6-412e-e726-ab5218bac3a1"
      },
      "source": [
        "df.shape"
      ],
      "execution_count": 4,
      "outputs": [
        {
          "output_type": "execute_result",
          "data": {
            "text/plain": [
              "(79, 9)"
            ]
          },
          "metadata": {
            "tags": []
          },
          "execution_count": 4
        }
      ]
    },
    {
      "cell_type": "code",
      "metadata": {
        "colab": {
          "base_uri": "https://localhost:8080/"
        },
        "id": "i-c83s55-izt",
        "outputId": "fbbf5006-80a0-44b5-977a-709f645cf663"
      },
      "source": [
        "df.info()"
      ],
      "execution_count": 5,
      "outputs": [
        {
          "output_type": "stream",
          "text": [
            "<class 'pandas.core.frame.DataFrame'>\n",
            "RangeIndex: 79 entries, 0 to 78\n",
            "Data columns (total 9 columns):\n",
            " #   Column      Non-Null Count  Dtype  \n",
            "---  ------      --------------  -----  \n",
            " 0   Unnamed: 0  79 non-null     int64  \n",
            " 1   V1          79 non-null     object \n",
            " 2   V2          79 non-null     int64  \n",
            " 3   V3          79 non-null     int64  \n",
            " 4   V4          79 non-null     int64  \n",
            " 5   V5          79 non-null     float64\n",
            " 6   V6          79 non-null     float64\n",
            " 7   V7          79 non-null     float64\n",
            " 8   V8          79 non-null     object \n",
            "dtypes: float64(3), int64(4), object(2)\n",
            "memory usage: 5.7+ KB\n"
          ],
          "name": "stdout"
        }
      ]
    },
    {
      "cell_type": "code",
      "metadata": {
        "id": "95umqJjG-wXB"
      },
      "source": [
        "df.rename(columns = {'V1' : 'Name', \n",
        "                     'V2' : 'Goods',\n",
        "                     'V3': 'Sells',\n",
        "                     'V4': 'MarketValue',\n",
        "                     'V5' : 'Profits',\n",
        "                     'V6' : 'CashFlow',\n",
        "                     'V7' : 'Employees',\n",
        "                     'V8' : 'Department'}, inplace = True)"
      ],
      "execution_count": 6,
      "outputs": []
    },
    {
      "cell_type": "code",
      "metadata": {
        "id": "RyrmopdQ-0wQ"
      },
      "source": [
        "df.drop('Unnamed: 0',axis=1,inplace=True)\n",
        "df['Department'] = df['Department'].astype('category')\n",
        "df['Name'] = df['Name'].astype('string')"
      ],
      "execution_count": 12,
      "outputs": []
    },
    {
      "cell_type": "code",
      "metadata": {
        "id": "3aoiaw3qKUja",
        "outputId": "cf39ea97-d81f-4cae-f551-750e8cbe6a0d",
        "colab": {
          "base_uri": "https://localhost:8080/"
        }
      },
      "source": [
        "df.info()"
      ],
      "execution_count": 13,
      "outputs": [
        {
          "output_type": "stream",
          "text": [
            "<class 'pandas.core.frame.DataFrame'>\n",
            "RangeIndex: 79 entries, 0 to 78\n",
            "Data columns (total 8 columns):\n",
            " #   Column       Non-Null Count  Dtype   \n",
            "---  ------       --------------  -----   \n",
            " 0   Name         79 non-null     string  \n",
            " 1   Goods        79 non-null     int64   \n",
            " 2   Sells        79 non-null     int64   \n",
            " 3   MarketValue  79 non-null     int64   \n",
            " 4   Profits      79 non-null     float64 \n",
            " 5   CashFlow     79 non-null     float64 \n",
            " 6   Employees    79 non-null     float64 \n",
            " 7   Department   79 non-null     category\n",
            "dtypes: category(1), float64(3), int64(3), string(1)\n",
            "memory usage: 4.9 KB\n"
          ],
          "name": "stdout"
        }
      ]
    },
    {
      "cell_type": "code",
      "metadata": {
        "id": "ewqWjmnmKunh",
        "outputId": "1ead69e4-6b21-4116-c77a-5b458afa657b",
        "colab": {
          "base_uri": "https://localhost:8080/",
          "height": 196
        }
      },
      "source": [
        "Xf = df.iloc[:,1:7]\n",
        "Xf.head()"
      ],
      "execution_count": 22,
      "outputs": [
        {
          "output_type": "execute_result",
          "data": {
            "text/html": [
              "<div>\n",
              "<style scoped>\n",
              "    .dataframe tbody tr th:only-of-type {\n",
              "        vertical-align: middle;\n",
              "    }\n",
              "\n",
              "    .dataframe tbody tr th {\n",
              "        vertical-align: top;\n",
              "    }\n",
              "\n",
              "    .dataframe thead th {\n",
              "        text-align: right;\n",
              "    }\n",
              "</style>\n",
              "<table border=\"1\" class=\"dataframe\">\n",
              "  <thead>\n",
              "    <tr style=\"text-align: right;\">\n",
              "      <th></th>\n",
              "      <th>Goods</th>\n",
              "      <th>Sells</th>\n",
              "      <th>MarketValue</th>\n",
              "      <th>Profits</th>\n",
              "      <th>CashFlow</th>\n",
              "      <th>Employees</th>\n",
              "    </tr>\n",
              "  </thead>\n",
              "  <tbody>\n",
              "    <tr>\n",
              "      <th>0</th>\n",
              "      <td>19788</td>\n",
              "      <td>9084</td>\n",
              "      <td>10636</td>\n",
              "      <td>1092.9</td>\n",
              "      <td>2576.8</td>\n",
              "      <td>79.4</td>\n",
              "    </tr>\n",
              "    <tr>\n",
              "      <th>1</th>\n",
              "      <td>5074</td>\n",
              "      <td>2557</td>\n",
              "      <td>1892</td>\n",
              "      <td>239.9</td>\n",
              "      <td>578.3</td>\n",
              "      <td>21.9</td>\n",
              "    </tr>\n",
              "    <tr>\n",
              "      <th>2</th>\n",
              "      <td>13621</td>\n",
              "      <td>4848</td>\n",
              "      <td>4572</td>\n",
              "      <td>485.0</td>\n",
              "      <td>898.9</td>\n",
              "      <td>23.4</td>\n",
              "    </tr>\n",
              "    <tr>\n",
              "      <th>3</th>\n",
              "      <td>1117</td>\n",
              "      <td>1038</td>\n",
              "      <td>478</td>\n",
              "      <td>59.7</td>\n",
              "      <td>91.7</td>\n",
              "      <td>3.8</td>\n",
              "    </tr>\n",
              "    <tr>\n",
              "      <th>4</th>\n",
              "      <td>1633</td>\n",
              "      <td>701</td>\n",
              "      <td>679</td>\n",
              "      <td>74.3</td>\n",
              "      <td>135.9</td>\n",
              "      <td>2.8</td>\n",
              "    </tr>\n",
              "  </tbody>\n",
              "</table>\n",
              "</div>"
            ],
            "text/plain": [
              "   Goods  Sells  MarketValue  Profits  CashFlow  Employees\n",
              "0  19788   9084        10636   1092.9    2576.8       79.4\n",
              "1   5074   2557         1892    239.9     578.3       21.9\n",
              "2  13621   4848         4572    485.0     898.9       23.4\n",
              "3   1117   1038          478     59.7      91.7        3.8\n",
              "4   1633    701          679     74.3     135.9        2.8"
            ]
          },
          "metadata": {
            "tags": []
          },
          "execution_count": 22
        }
      ]
    },
    {
      "cell_type": "code",
      "metadata": {
        "id": "BrkTG6SRMSiJ",
        "outputId": "1bdc595b-3cc5-4b52-cff4-ffdc64146bcf",
        "colab": {
          "base_uri": "https://localhost:8080/",
          "height": 585
        }
      },
      "source": [
        "scaler = StandardScaler()\n",
        "scaled_features =scaler.fit_transform(Xf.values)\n",
        "df_features_scaled = pd.DataFrame(scaled_features, index=Xf.index, columns=Xf.columns)\n",
        "\n",
        "plt.figure(figsize = (14,8))\n",
        "sns.boxplot(data = df_features_scaled)\n",
        "plt.xticks(rotation = 90)\n",
        "plt.tight_layout()"
      ],
      "execution_count": 36,
      "outputs": [
        {
          "output_type": "display_data",
          "data": {
            "image/png": "[encoded data removed]",
            "text/plain": [
              "<Figure size 1008x576 with 1 Axes>"
            ]
          },
          "metadata": {
            "tags": [],
            "needs_background": "light"
          }
        }
      ]
    },
    {
      "cell_type": "code",
      "metadata": {
        "id": "0VYXx3JZMx1M",
        "outputId": "dab1e335-159d-43b9-efc3-7cfa2ca46796",
        "colab": {
          "base_uri": "https://localhost:8080/",
          "height": 1000
        }
      },
      "source": [
        "df_features_y = pd.concat([df_features_scaled, df.iloc[:,7]], axis=1).reindex(df_features_scaled.index)\n",
        "df_features_y.boxplot(by=\"Department\", figsize=(24, 12))"
      ],
      "execution_count": 35,
      "outputs": [
        {
          "output_type": "stream",
          "text": [
            "/usr/local/lib/python3.7/dist-packages/numpy/core/_asarray.py:83: VisibleDeprecationWarning:\n",
            "\n",
            "Creating an ndarray from ragged nested sequences (which is a list-or-tuple of lists-or-tuples-or ndarrays with different lengths or shapes) is deprecated. If you meant to do this, you must specify 'dtype=object' when creating the ndarray\n",
            "\n",
            "/usr/local/lib/python3.7/dist-packages/numpy/core/_asarray.py:83: VisibleDeprecationWarning:\n",
            "\n",
            "Creating an ndarray from ragged nested sequences (which is a list-or-tuple of lists-or-tuples-or ndarrays with different lengths or shapes) is deprecated. If you meant to do this, you must specify 'dtype=object' when creating the ndarray\n",
            "\n",
            "/usr/local/lib/python3.7/dist-packages/numpy/core/_asarray.py:83: VisibleDeprecationWarning:\n",
            "\n",
            "Creating an ndarray from ragged nested sequences (which is a list-or-tuple of lists-or-tuples-or ndarrays with different lengths or shapes) is deprecated. If you meant to do this, you must specify 'dtype=object' when creating the ndarray\n",
            "\n",
            "/usr/local/lib/python3.7/dist-packages/numpy/core/_asarray.py:83: VisibleDeprecationWarning:\n",
            "\n",
            "Creating an ndarray from ragged nested sequences (which is a list-or-tuple of lists-or-tuples-or ndarrays with different lengths or shapes) is deprecated. If you meant to do this, you must specify 'dtype=object' when creating the ndarray\n",
            "\n",
            "/usr/local/lib/python3.7/dist-packages/numpy/core/_asarray.py:83: VisibleDeprecationWarning:\n",
            "\n",
            "Creating an ndarray from ragged nested sequences (which is a list-or-tuple of lists-or-tuples-or ndarrays with different lengths or shapes) is deprecated. If you meant to do this, you must specify 'dtype=object' when creating the ndarray\n",
            "\n",
            "/usr/local/lib/python3.7/dist-packages/numpy/core/_asarray.py:83: VisibleDeprecationWarning:\n",
            "\n",
            "Creating an ndarray from ragged nested sequences (which is a list-or-tuple of lists-or-tuples-or ndarrays with different lengths or shapes) is deprecated. If you meant to do this, you must specify 'dtype=object' when creating the ndarray\n",
            "\n"
          ],
          "name": "stderr"
        },
        {
          "output_type": "execute_result",
          "data": {
            "text/plain": [
              "array([[<matplotlib.axes._subplots.AxesSubplot object at 0x7f3ebede2310>,\n",
              "        <matplotlib.axes._subplots.AxesSubplot object at 0x7f3ebf853990>],\n",
              "       [<matplotlib.axes._subplots.AxesSubplot object at 0x7f3ec9c98250>,\n",
              "        <matplotlib.axes._subplots.AxesSubplot object at 0x7f3ebf617b50>],\n",
              "       [<matplotlib.axes._subplots.AxesSubplot object at 0x7f3ebed7c7d0>,\n",
              "        <matplotlib.axes._subplots.AxesSubplot object at 0x7f3ebedb2790>]],\n",
              "      dtype=object)"
            ]
          },
          "metadata": {
            "tags": []
          },
          "execution_count": 35
        },
        {
          "output_type": "display_data",
          "data": {
            "image/png": "[encoded data removed]",
            "text/plain": [
              "<Figure size 1728x864 with 6 Axes>"
            ]
          },
          "metadata": {
            "tags": [],
            "needs_background": "light"
          }
        }
      ]
    },
    {
      "cell_type": "code",
      "metadata": {
        "id": "klSR0ydOSAe6"
      },
      "source": [
        ""
      ],
      "execution_count": null,
      "outputs": []
    }
  ]
}