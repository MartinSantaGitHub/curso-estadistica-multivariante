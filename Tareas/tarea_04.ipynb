{
  "nbformat": 4,
  "nbformat_minor": 0,
  "metadata": {
    "colab": {
      "name": "tarea_04.ipynb",
      "provenance": [],
      "collapsed_sections": [],
      "authorship_tag": "ABX9TyMN6rgiwcflSqsG8XgUeg8S",
      "include_colab_link": true
    },
    "kernelspec": {
      "name": "python3",
      "display_name": "Python 3"
    },
    "language_info": {
      "name": "python"
    }
  },
  "cells": [
    {
      "cell_type": "markdown",
      "metadata": {
        "id": "view-in-github",
        "colab_type": "text"
      },
      "source": [
        "<a href=\"https://colab.research.google.com/github/MartinSantaGitHub/curso-estadistica-multivariante/blob/master/Tareas/tarea_04.ipynb\" target=\"_parent\"><img src=\"https://colab.research.google.com/assets/colab-badge.svg\" alt=\"Open In Colab\"/></a>"
      ]
    },
    {
      "cell_type": "code",
      "metadata": {
        "id": "_dN8WE-KKpBJ"
      },
      "source": [
        "import numpy as np\n",
        "import pandas as pd \n",
        "import seaborn as sns\n",
        "import matplotlib.pyplot as plt\n",
        "import scipy.stats as sc\n",
        "from scipy.spatial import distance\n",
        "from plotnine import *\n",
        "from pandas.plotting import scatter_matrix\n",
        "from sklearn.preprocessing import StandardScaler"
      ],
      "execution_count": 113,
      "outputs": []
    },
    {
      "cell_type": "code",
      "metadata": {
        "id": "77JhiBDaKuPk"
      },
      "source": [
        "df = pd.read_csv('https://raw.githubusercontent.com/MartinSantaGitHub/curso-estadistica-multivariante/master/Datos/companies79.csv')"
      ],
      "execution_count": 2,
      "outputs": []
    },
    {
      "cell_type": "code",
      "metadata": {
        "id": "UdiL7-hfKwSz"
      },
      "source": [
        "df.rename(columns = {'V1' : 'Name', \n",
        "                     'V2' : 'Goods',\n",
        "                     'V3': 'Sells',\n",
        "                     'V4': 'MarketValue',\n",
        "                     'V5' : 'Profits',\n",
        "                     'V6' : 'CashFlow',\n",
        "                     'V7' : 'Employees',\n",
        "                     'V8' : 'Department'}, inplace = True)"
      ],
      "execution_count": 3,
      "outputs": []
    },
    {
      "cell_type": "code",
      "metadata": {
        "id": "Xw4u4c_qKy2J"
      },
      "source": [
        "df.drop('Unnamed: 0',axis=1,inplace=True)\n",
        "df['Department'] = df['Department'].astype('category')\n",
        "df['Name'] = df['Name'].astype('string')"
      ],
      "execution_count": 4,
      "outputs": []
    },
    {
      "cell_type": "code",
      "metadata": {
        "colab": {
          "base_uri": "https://localhost:8080/"
        },
        "id": "AFUB9WYRK1PQ",
        "outputId": "b755d173-845d-42dc-f70a-298a3b873791"
      },
      "source": [
        "df.info()"
      ],
      "execution_count": 5,
      "outputs": [
        {
          "output_type": "stream",
          "text": [
            "<class 'pandas.core.frame.DataFrame'>\n",
            "RangeIndex: 79 entries, 0 to 78\n",
            "Data columns (total 8 columns):\n",
            " #   Column       Non-Null Count  Dtype   \n",
            "---  ------       --------------  -----   \n",
            " 0   Name         79 non-null     string  \n",
            " 1   Goods        79 non-null     int64   \n",
            " 2   Sells        79 non-null     int64   \n",
            " 3   MarketValue  79 non-null     int64   \n",
            " 4   Profits      79 non-null     float64 \n",
            " 5   CashFlow     79 non-null     float64 \n",
            " 6   Employees    79 non-null     float64 \n",
            " 7   Department   79 non-null     category\n",
            "dtypes: category(1), float64(3), int64(3), string(1)\n",
            "memory usage: 4.9 KB\n"
          ],
          "name": "stdout"
        }
      ]
    },
    {
      "cell_type": "code",
      "metadata": {
        "colab": {
          "base_uri": "https://localhost:8080/",
          "height": 196
        },
        "id": "VD8Z6tVEK2zU",
        "outputId": "08ab6373-0709-4989-f377-ec78afb9fa49"
      },
      "source": [
        "Xf = df.iloc[:,1:7]\n",
        "Xf.head()"
      ],
      "execution_count": 6,
      "outputs": [
        {
          "output_type": "execute_result",
          "data": {
            "text/html": [
              "<div>\n",
              "<style scoped>\n",
              "    .dataframe tbody tr th:only-of-type {\n",
              "        vertical-align: middle;\n",
              "    }\n",
              "\n",
              "    .dataframe tbody tr th {\n",
              "        vertical-align: top;\n",
              "    }\n",
              "\n",
              "    .dataframe thead th {\n",
              "        text-align: right;\n",
              "    }\n",
              "</style>\n",
              "<table border=\"1\" class=\"dataframe\">\n",
              "  <thead>\n",
              "    <tr style=\"text-align: right;\">\n",
              "      <th></th>\n",
              "      <th>Goods</th>\n",
              "      <th>Sells</th>\n",
              "      <th>MarketValue</th>\n",
              "      <th>Profits</th>\n",
              "      <th>CashFlow</th>\n",
              "      <th>Employees</th>\n",
              "    </tr>\n",
              "  </thead>\n",
              "  <tbody>\n",
              "    <tr>\n",
              "      <th>0</th>\n",
              "      <td>19788</td>\n",
              "      <td>9084</td>\n",
              "      <td>10636</td>\n",
              "      <td>1092.9</td>\n",
              "      <td>2576.8</td>\n",
              "      <td>79.4</td>\n",
              "    </tr>\n",
              "    <tr>\n",
              "      <th>1</th>\n",
              "      <td>5074</td>\n",
              "      <td>2557</td>\n",
              "      <td>1892</td>\n",
              "      <td>239.9</td>\n",
              "      <td>578.3</td>\n",
              "      <td>21.9</td>\n",
              "    </tr>\n",
              "    <tr>\n",
              "      <th>2</th>\n",
              "      <td>13621</td>\n",
              "      <td>4848</td>\n",
              "      <td>4572</td>\n",
              "      <td>485.0</td>\n",
              "      <td>898.9</td>\n",
              "      <td>23.4</td>\n",
              "    </tr>\n",
              "    <tr>\n",
              "      <th>3</th>\n",
              "      <td>1117</td>\n",
              "      <td>1038</td>\n",
              "      <td>478</td>\n",
              "      <td>59.7</td>\n",
              "      <td>91.7</td>\n",
              "      <td>3.8</td>\n",
              "    </tr>\n",
              "    <tr>\n",
              "      <th>4</th>\n",
              "      <td>1633</td>\n",
              "      <td>701</td>\n",
              "      <td>679</td>\n",
              "      <td>74.3</td>\n",
              "      <td>135.9</td>\n",
              "      <td>2.8</td>\n",
              "    </tr>\n",
              "  </tbody>\n",
              "</table>\n",
              "</div>"
            ],
            "text/plain": [
              "   Goods  Sells  MarketValue  Profits  CashFlow  Employees\n",
              "0  19788   9084        10636   1092.9    2576.8       79.4\n",
              "1   5074   2557         1892    239.9     578.3       21.9\n",
              "2  13621   4848         4572    485.0     898.9       23.4\n",
              "3   1117   1038          478     59.7      91.7        3.8\n",
              "4   1633    701          679     74.3     135.9        2.8"
            ]
          },
          "metadata": {
            "tags": []
          },
          "execution_count": 6
        }
      ]
    },
    {
      "cell_type": "code",
      "metadata": {
        "colab": {
          "base_uri": "https://localhost:8080/",
          "height": 196
        },
        "id": "iIr4XwnnLA6O",
        "outputId": "1ae9b8fe-6ac7-45b4-8325-b53d12ef24c1"
      },
      "source": [
        "Xlog = Xf.apply(np.log10, axis = 1)\n",
        "Xlog.head()"
      ],
      "execution_count": 7,
      "outputs": [
        {
          "output_type": "execute_result",
          "data": {
            "text/html": [
              "<div>\n",
              "<style scoped>\n",
              "    .dataframe tbody tr th:only-of-type {\n",
              "        vertical-align: middle;\n",
              "    }\n",
              "\n",
              "    .dataframe tbody tr th {\n",
              "        vertical-align: top;\n",
              "    }\n",
              "\n",
              "    .dataframe thead th {\n",
              "        text-align: right;\n",
              "    }\n",
              "</style>\n",
              "<table border=\"1\" class=\"dataframe\">\n",
              "  <thead>\n",
              "    <tr style=\"text-align: right;\">\n",
              "      <th></th>\n",
              "      <th>Goods</th>\n",
              "      <th>Sells</th>\n",
              "      <th>MarketValue</th>\n",
              "      <th>Profits</th>\n",
              "      <th>CashFlow</th>\n",
              "      <th>Employees</th>\n",
              "    </tr>\n",
              "  </thead>\n",
              "  <tbody>\n",
              "    <tr>\n",
              "      <th>0</th>\n",
              "      <td>4.296402</td>\n",
              "      <td>3.958277</td>\n",
              "      <td>4.026778</td>\n",
              "      <td>3.038580</td>\n",
              "      <td>3.411081</td>\n",
              "      <td>1.899821</td>\n",
              "    </tr>\n",
              "    <tr>\n",
              "      <th>1</th>\n",
              "      <td>3.705350</td>\n",
              "      <td>3.407731</td>\n",
              "      <td>3.276921</td>\n",
              "      <td>2.380030</td>\n",
              "      <td>2.762153</td>\n",
              "      <td>1.340444</td>\n",
              "    </tr>\n",
              "    <tr>\n",
              "      <th>2</th>\n",
              "      <td>4.134209</td>\n",
              "      <td>3.685563</td>\n",
              "      <td>3.660106</td>\n",
              "      <td>2.685742</td>\n",
              "      <td>2.953711</td>\n",
              "      <td>1.369216</td>\n",
              "    </tr>\n",
              "    <tr>\n",
              "      <th>3</th>\n",
              "      <td>3.048053</td>\n",
              "      <td>3.016197</td>\n",
              "      <td>2.679428</td>\n",
              "      <td>1.775974</td>\n",
              "      <td>1.962369</td>\n",
              "      <td>0.579784</td>\n",
              "    </tr>\n",
              "    <tr>\n",
              "      <th>4</th>\n",
              "      <td>3.212986</td>\n",
              "      <td>2.845718</td>\n",
              "      <td>2.831870</td>\n",
              "      <td>1.870989</td>\n",
              "      <td>2.133219</td>\n",
              "      <td>0.447158</td>\n",
              "    </tr>\n",
              "  </tbody>\n",
              "</table>\n",
              "</div>"
            ],
            "text/plain": [
              "      Goods     Sells  MarketValue   Profits  CashFlow  Employees\n",
              "0  4.296402  3.958277     4.026778  3.038580  3.411081   1.899821\n",
              "1  3.705350  3.407731     3.276921  2.380030  2.762153   1.340444\n",
              "2  4.134209  3.685563     3.660106  2.685742  2.953711   1.369216\n",
              "3  3.048053  3.016197     2.679428  1.775974  1.962369   0.579784\n",
              "4  3.212986  2.845718     2.831870  1.870989  2.133219   0.447158"
            ]
          },
          "metadata": {
            "tags": []
          },
          "execution_count": 7
        }
      ]
    },
    {
      "cell_type": "code",
      "metadata": {
        "colab": {
          "base_uri": "https://localhost:8080/",
          "height": 283
        },
        "id": "xzS-O3ZyLvil",
        "outputId": "665be0b7-41cf-4087-a30d-450638c5dbc3"
      },
      "source": [
        "cols = [\"MarketValue\",\"Profits\"]\n",
        "sns.histplot(Xf[cols],bins=10, kde = True)\n",
        "plt.show()"
      ],
      "execution_count": 16,
      "outputs": [
        {
          "output_type": "execute_result",
          "data": {
            "text/plain": [
              "<matplotlib.axes._subplots.AxesSubplot at 0x7f86a8c1bfd0>"
            ]
          },
          "metadata": {
            "tags": []
          },
          "execution_count": 16
        },
        {
          "output_type": "display_data",
          "data": {
            "image/png": "[encoded data removed]",
            "text/plain": [
              "<Figure size 432x288 with 1 Axes>"
            ]
          },
          "metadata": {
            "tags": [],
            "needs_background": "light"
          }
        }
      ]
    },
    {
      "cell_type": "code",
      "metadata": {
        "colab": {
          "base_uri": "https://localhost:8080/",
          "height": 265
        },
        "id": "CvQ1HnJ4L8dP",
        "outputId": "3b70c4f5-7672-49c2-cb68-aefcde5e194e"
      },
      "source": [
        "sns.histplot(Xlog[cols],bins=10, kde = True, alpha = 0.5)\n",
        "plt.show()"
      ],
      "execution_count": 20,
      "outputs": [
        {
          "output_type": "display_data",
          "data": {
            "image/png": "[encoded data removed]",
            "text/plain": [
              "<Figure size 432x288 with 1 Axes>"
            ]
          },
          "metadata": {
            "tags": [],
            "needs_background": "light"
          }
        }
      ]
    },
    {
      "cell_type": "code",
      "metadata": {
        "colab": {
          "base_uri": "https://localhost:8080/",
          "height": 279
        },
        "id": "H6ItRPUiNg7T",
        "outputId": "59734b13-ff66-43d6-d500-b0577e9138cc"
      },
      "source": [
        "V4 = Xf[\"MarketValue\"]\n",
        "V5 = Xf[\"Profits\"]\n",
        "sns.kdeplot(x = V4, y = V5, cmap=\"Blues\", shade=True)\n",
        "plt.show()"
      ],
      "execution_count": 25,
      "outputs": [
        {
          "output_type": "display_data",
          "data": {
            "image/png": "[encoded data removed]",
            "text/plain": [
              "<Figure size 432x288 with 1 Axes>"
            ]
          },
          "metadata": {
            "tags": [],
            "needs_background": "light"
          }
        }
      ]
    },
    {
      "cell_type": "code",
      "metadata": {
        "colab": {
          "base_uri": "https://localhost:8080/",
          "height": 279
        },
        "id": "4suta_eNOVAW",
        "outputId": "57e0f5cd-9690-42db-c4ef-ac7b745bd0f4"
      },
      "source": [
        "V4 = Xlog[\"MarketValue\"]\n",
        "V5 = Xlog[\"Profits\"]\n",
        "sns.kdeplot(x = V4, y = V5, cmap=\"Blues\", shade=True, thresh=0)\n",
        "plt.show()"
      ],
      "execution_count": 34,
      "outputs": [
        {
          "output_type": "display_data",
          "data": {
            "image/png": "[encoded data removed]",
            "text/plain": [
              "<Figure size 432x288 with 1 Axes>"
            ]
          },
          "metadata": {
            "tags": [],
            "needs_background": "light"
          }
        }
      ]
    },
    {
      "cell_type": "code",
      "metadata": {
        "colab": {
          "base_uri": "https://localhost:8080/",
          "height": 464
        },
        "id": "gzocJH4xWCBU",
        "outputId": "af87fdc1-e569-4350-f5a2-5c1189a217b0"
      },
      "source": [
        "ggplot(aes(x = \"MarketValue\", y = \"Profits\"), Xf) + geom_point() + stat_density_2d(aes(fill = '..level..'), geom = \"polygon\", colour=\"white\", alpha = 0.5)"
      ],
      "execution_count": 79,
      "outputs": [
        {
          "output_type": "display_data",
          "data": {
            "image/png": "[encoded data removed]",
            "text/plain": [
              "<Figure size 640x480 with 1 Axes>"
            ]
          },
          "metadata": {
            "tags": []
          }
        },
        {
          "output_type": "execute_result",
          "data": {
            "text/plain": [
              "<ggplot: (8763500759397)>"
            ]
          },
          "metadata": {
            "tags": []
          },
          "execution_count": 79
        }
      ]
    },
    {
      "cell_type": "code",
      "metadata": {
        "colab": {
          "base_uri": "https://localhost:8080/",
          "height": 464
        },
        "id": "-bSzTlY-WB4o",
        "outputId": "5a75c822-a029-411b-b724-ea428d591e3e"
      },
      "source": [
        "ggplot(aes(x = \"MarketValue\", y = \"Profits\"), Xlog) + geom_point() + stat_density_2d(aes(fill = '..level..'), geom = \"polygon\", colour=\"white\", alpha = 0.5)"
      ],
      "execution_count": 80,
      "outputs": [
        {
          "output_type": "display_data",
          "data": {
            "image/png": "[encoded data removed]",
            "text/plain": [
              "<Figure size 640x480 with 1 Axes>"
            ]
          },
          "metadata": {
            "tags": []
          }
        },
        {
          "output_type": "execute_result",
          "data": {
            "text/plain": [
              "<ggplot: (8763500577741)>"
            ]
          },
          "metadata": {
            "tags": []
          },
          "execution_count": 80
        }
      ]
    },
    {
      "cell_type": "code",
      "metadata": {
        "colab": {
          "base_uri": "https://localhost:8080/"
        },
        "id": "vbe7Jq3oW9Xh",
        "outputId": "1b0f5cdb-3ec7-4550-e18b-00b55d4c06ae"
      },
      "source": [
        "means = Xf.mean()\n",
        "means"
      ],
      "execution_count": 96,
      "outputs": [
        {
          "output_type": "execute_result",
          "data": {
            "text/plain": [
              "Goods          5940.531646\n",
              "Sells          4178.291139\n",
              "MarketValue    3269.746835\n",
              "Profits         268.289873\n",
              "CashFlow        433.455696\n",
              "Employees        37.597468\n",
              "dtype: float64"
            ]
          },
          "metadata": {
            "tags": []
          },
          "execution_count": 96
        }
      ]
    },
    {
      "cell_type": "code",
      "metadata": {
        "colab": {
          "base_uri": "https://localhost:8080/",
          "height": 226
        },
        "id": "uhSV8V_ZW9Tt",
        "outputId": "2a790d70-b6a1-4792-e8df-e0acd0b0c0b3"
      },
      "source": [
        "cov_matrix = Xf.cov()\n",
        "cov_matrix"
      ],
      "execution_count": 97,
      "outputs": [
        {
          "output_type": "execute_result",
          "data": {
            "text/html": [
              "<div>\n",
              "<style scoped>\n",
              "    .dataframe tbody tr th:only-of-type {\n",
              "        vertical-align: middle;\n",
              "    }\n",
              "\n",
              "    .dataframe tbody tr th {\n",
              "        vertical-align: top;\n",
              "    }\n",
              "\n",
              "    .dataframe thead th {\n",
              "        text-align: right;\n",
              "    }\n",
              "</style>\n",
              "<table border=\"1\" class=\"dataframe\">\n",
              "  <thead>\n",
              "    <tr style=\"text-align: right;\">\n",
              "      <th></th>\n",
              "      <th>Goods</th>\n",
              "      <th>Sells</th>\n",
              "      <th>MarketValue</th>\n",
              "      <th>Profits</th>\n",
              "      <th>CashFlow</th>\n",
              "      <th>Employees</th>\n",
              "    </tr>\n",
              "  </thead>\n",
              "  <tbody>\n",
              "    <tr>\n",
              "      <th>Goods</th>\n",
              "      <td>8.384669e+07</td>\n",
              "      <td>4.792604e+07</td>\n",
              "      <td>7.061177e+07</td>\n",
              "      <td>5.134333e+06</td>\n",
              "      <td>7.714471e+06</td>\n",
              "      <td>351058.228286</td>\n",
              "    </tr>\n",
              "    <tr>\n",
              "      <th>Sells</th>\n",
              "      <td>4.792604e+07</td>\n",
              "      <td>4.916300e+07</td>\n",
              "      <td>6.965774e+07</td>\n",
              "      <td>4.871604e+06</td>\n",
              "      <td>7.474929e+06</td>\n",
              "      <td>417925.918695</td>\n",
              "    </tr>\n",
              "    <tr>\n",
              "      <th>MarketValue</th>\n",
              "      <td>7.061177e+07</td>\n",
              "      <td>6.965774e+07</td>\n",
              "      <td>1.277701e+08</td>\n",
              "      <td>8.696087e+06</td>\n",
              "      <td>1.320104e+07</td>\n",
              "      <td>596582.740377</td>\n",
              "    </tr>\n",
              "    <tr>\n",
              "      <th>Profits</th>\n",
              "      <td>5.134333e+06</td>\n",
              "      <td>4.871604e+06</td>\n",
              "      <td>8.696087e+06</td>\n",
              "      <td>6.068672e+05</td>\n",
              "      <td>9.185365e+05</td>\n",
              "      <td>40331.062538</td>\n",
              "    </tr>\n",
              "    <tr>\n",
              "      <th>CashFlow</th>\n",
              "      <td>7.714471e+06</td>\n",
              "      <td>7.474929e+06</td>\n",
              "      <td>1.320104e+07</td>\n",
              "      <td>9.185365e+05</td>\n",
              "      <td>1.425817e+06</td>\n",
              "      <td>61578.388348</td>\n",
              "    </tr>\n",
              "    <tr>\n",
              "      <th>Employees</th>\n",
              "      <td>3.510582e+05</td>\n",
              "      <td>4.179259e+05</td>\n",
              "      <td>5.965827e+05</td>\n",
              "      <td>4.033106e+04</td>\n",
              "      <td>6.157839e+04</td>\n",
              "      <td>4160.792045</td>\n",
              "    </tr>\n",
              "  </tbody>\n",
              "</table>\n",
              "</div>"
            ],
            "text/plain": [
              "                    Goods         Sells  ...      CashFlow      Employees\n",
              "Goods        8.384669e+07  4.792604e+07  ...  7.714471e+06  351058.228286\n",
              "Sells        4.792604e+07  4.916300e+07  ...  7.474929e+06  417925.918695\n",
              "MarketValue  7.061177e+07  6.965774e+07  ...  1.320104e+07  596582.740377\n",
              "Profits      5.134333e+06  4.871604e+06  ...  9.185365e+05   40331.062538\n",
              "CashFlow     7.714471e+06  7.474929e+06  ...  1.425817e+06   61578.388348\n",
              "Employees    3.510582e+05  4.179259e+05  ...  6.157839e+04    4160.792045\n",
              "\n",
              "[6 rows x 6 columns]"
            ]
          },
          "metadata": {
            "tags": []
          },
          "execution_count": 97
        }
      ]
    },
    {
      "cell_type": "code",
      "metadata": {
        "id": "wYq0ScWtW9MP"
      },
      "source": [
        "mahalanobis_dist = []\n",
        "means_values = means.values\n",
        "Sx_inv = np.linalg.inv(cov_matrix)\n",
        "Sx_inv\n",
        "\n",
        "for i in range(Xf.shape[0]):\n",
        "  mahalanobis_dist.append(distance.mahalanobis(Xf.iloc[i,:],means_values,Sx_inv))\n",
        "\n",
        "mahalanobis_dist"
      ],
      "execution_count": null,
      "outputs": []
    },
    {
      "cell_type": "code",
      "metadata": {
        "id": "qV8WPZO2W9JU"
      },
      "source": [
        "np.sort(mahalanobis_dist)[::-1]"
      ],
      "execution_count": null,
      "outputs": []
    },
    {
      "cell_type": "code",
      "metadata": {
        "colab": {
          "base_uri": "https://localhost:8080/"
        },
        "id": "XsdV8Bh_jw5r",
        "outputId": "c36f1aae-eafc-4b32-b09c-511a18caabee"
      },
      "source": [
        "p = len(Xf.columns)\n",
        "dist_limit = sc.chi2.ppf(1 - 0.95, p)\n",
        "dist_limit"
      ],
      "execution_count": 159,
      "outputs": [
        {
          "output_type": "execute_result",
          "data": {
            "text/plain": [
              "1.6353828943279072"
            ]
          },
          "metadata": {
            "tags": []
          },
          "execution_count": 159
        }
      ]
    },
    {
      "cell_type": "code",
      "metadata": {
        "id": "PdbYqIXjpztx"
      },
      "source": [
        "df[mahalanobis_dist > dist_limit]"
      ],
      "execution_count": null,
      "outputs": []
    },
    {
      "cell_type": "code",
      "metadata": {
        "id": "v6UhKZ4UW9Pj"
      },
      "source": [
        "pd.unique(df[mahalanobis_dist > dist_limit].loc[:,[\"Department\"]].values.flatten())"
      ],
      "execution_count": null,
      "outputs": []
    },
    {
      "cell_type": "code",
      "metadata": {
        "colab": {
          "base_uri": "https://localhost:8080/"
        },
        "id": "Bx6eLXeIO4bb",
        "outputId": "6bee122e-6345-4af2-d08f-0b32d0cfd21e"
      },
      "source": [
        "max(mahalanobis_dist)"
      ],
      "execution_count": 161,
      "outputs": [
        {
          "output_type": "execute_result",
          "data": {
            "text/plain": [
              "8.432552426400717"
            ]
          },
          "metadata": {
            "tags": []
          },
          "execution_count": 161
        }
      ]
    },
    {
      "cell_type": "code",
      "metadata": {
        "colab": {
          "base_uri": "https://localhost:8080/",
          "height": 77
        },
        "id": "oU50aFYy2jHq",
        "outputId": "0d8bc27a-96cc-424c-a4e6-a85b2195e1e2"
      },
      "source": [
        "df[mahalanobis_dist == max(mahalanobis_dist)]"
      ],
      "execution_count": 162,
      "outputs": [
        {
          "output_type": "execute_result",
          "data": {
            "text/html": [
              "<div>\n",
              "<style scoped>\n",
              "    .dataframe tbody tr th:only-of-type {\n",
              "        vertical-align: middle;\n",
              "    }\n",
              "\n",
              "    .dataframe tbody tr th {\n",
              "        vertical-align: top;\n",
              "    }\n",
              "\n",
              "    .dataframe thead th {\n",
              "        text-align: right;\n",
              "    }\n",
              "</style>\n",
              "<table border=\"1\" class=\"dataframe\">\n",
              "  <thead>\n",
              "    <tr style=\"text-align: right;\">\n",
              "      <th></th>\n",
              "      <th>Name</th>\n",
              "      <th>Goods</th>\n",
              "      <th>Sells</th>\n",
              "      <th>MarketValue</th>\n",
              "      <th>Profits</th>\n",
              "      <th>CashFlow</th>\n",
              "      <th>Employees</th>\n",
              "      <th>Department</th>\n",
              "    </tr>\n",
              "  </thead>\n",
              "  <tbody>\n",
              "    <tr>\n",
              "      <th>39</th>\n",
              "      <td>IBM</td>\n",
              "      <td>52634</td>\n",
              "      <td>50056</td>\n",
              "      <td>95697</td>\n",
              "      <td>6555.0</td>\n",
              "      <td>9874.0</td>\n",
              "      <td>400.2</td>\n",
              "      <td>HiTech</td>\n",
              "    </tr>\n",
              "  </tbody>\n",
              "</table>\n",
              "</div>"
            ],
            "text/plain": [
              "   Name  Goods  Sells  MarketValue  Profits  CashFlow  Employees Department\n",
              "39  IBM  52634  50056        95697   6555.0    9874.0      400.2     HiTech"
            ]
          },
          "metadata": {
            "tags": []
          },
          "execution_count": 162
        }
      ]
    },
    {
      "cell_type": "code",
      "metadata": {
        "colab": {
          "base_uri": "https://localhost:8080/",
          "height": 464
        },
        "id": "hmplBWEX2jEc",
        "outputId": "63f3c025-b566-4daf-8fe8-bf46e4f6ff12"
      },
      "source": [
        "Xf['maha_dist'] = mahalanobis_dist\n",
        "Xf['is_outlier'] = Xf['maha_dist'] > dist_limit\n",
        "\n",
        "ggplot(aes(x = \"Goods\", y = \"Sells\"), Xf) + geom_point(aes(color = \"is_outlier\")) + scale_colour_manual(name = 'Is Outlier', values = ['blue','red'])"
      ],
      "execution_count": 181,
      "outputs": [
        {
          "output_type": "display_data",
          "data": {
            "image/png": "[encoded data removed]",
            "text/plain": [
              "<Figure size 640x480 with 1 Axes>"
            ]
          },
          "metadata": {
            "tags": []
          }
        },
        {
          "output_type": "execute_result",
          "data": {
            "text/plain": [
              "<ggplot: (8763498369357)>"
            ]
          },
          "metadata": {
            "tags": []
          },
          "execution_count": 181
        }
      ]
    },
    {
      "cell_type": "code",
      "metadata": {
        "colab": {
          "base_uri": "https://localhost:8080/",
          "height": 196
        },
        "id": "ZOMt9uyq83cn",
        "outputId": "755d2a09-c0da-4949-bda3-06a8cd6cd1b8"
      },
      "source": [
        "out = Xf[mahalanobis_dist > dist_limit].index\n",
        "Xclean = Xf.drop(out)\n",
        "Xclean.head()"
      ],
      "execution_count": 188,
      "outputs": [
        {
          "output_type": "execute_result",
          "data": {
            "text/html": [
              "<div>\n",
              "<style scoped>\n",
              "    .dataframe tbody tr th:only-of-type {\n",
              "        vertical-align: middle;\n",
              "    }\n",
              "\n",
              "    .dataframe tbody tr th {\n",
              "        vertical-align: top;\n",
              "    }\n",
              "\n",
              "    .dataframe thead th {\n",
              "        text-align: right;\n",
              "    }\n",
              "</style>\n",
              "<table border=\"1\" class=\"dataframe\">\n",
              "  <thead>\n",
              "    <tr style=\"text-align: right;\">\n",
              "      <th></th>\n",
              "      <th>Goods</th>\n",
              "      <th>Sells</th>\n",
              "      <th>MarketValue</th>\n",
              "      <th>Profits</th>\n",
              "      <th>CashFlow</th>\n",
              "      <th>Employees</th>\n",
              "      <th>maha_dist</th>\n",
              "      <th>is_outlier</th>\n",
              "    </tr>\n",
              "  </thead>\n",
              "  <tbody>\n",
              "    <tr>\n",
              "      <th>1</th>\n",
              "      <td>5074</td>\n",
              "      <td>2557</td>\n",
              "      <td>1892</td>\n",
              "      <td>239.9</td>\n",
              "      <td>578.3</td>\n",
              "      <td>21.9</td>\n",
              "      <td>1.444434</td>\n",
              "      <td>False</td>\n",
              "    </tr>\n",
              "    <tr>\n",
              "      <th>3</th>\n",
              "      <td>1117</td>\n",
              "      <td>1038</td>\n",
              "      <td>478</td>\n",
              "      <td>59.7</td>\n",
              "      <td>91.7</td>\n",
              "      <td>3.8</td>\n",
              "      <td>0.802333</td>\n",
              "      <td>False</td>\n",
              "    </tr>\n",
              "    <tr>\n",
              "      <th>4</th>\n",
              "      <td>1633</td>\n",
              "      <td>701</td>\n",
              "      <td>679</td>\n",
              "      <td>74.3</td>\n",
              "      <td>135.9</td>\n",
              "      <td>2.8</td>\n",
              "      <td>0.756586</td>\n",
              "      <td>False</td>\n",
              "    </tr>\n",
              "    <tr>\n",
              "      <th>5</th>\n",
              "      <td>5651</td>\n",
              "      <td>1254</td>\n",
              "      <td>2002</td>\n",
              "      <td>310.7</td>\n",
              "      <td>407.9</td>\n",
              "      <td>6.2</td>\n",
              "      <td>1.551584</td>\n",
              "      <td>False</td>\n",
              "    </tr>\n",
              "    <tr>\n",
              "      <th>7</th>\n",
              "      <td>3494</td>\n",
              "      <td>1653</td>\n",
              "      <td>1442</td>\n",
              "      <td>160.9</td>\n",
              "      <td>320.3</td>\n",
              "      <td>6.4</td>\n",
              "      <td>0.745775</td>\n",
              "      <td>False</td>\n",
              "    </tr>\n",
              "  </tbody>\n",
              "</table>\n",
              "</div>"
            ],
            "text/plain": [
              "   Goods  Sells  MarketValue  ...  Employees  maha_dist  is_outlier\n",
              "1   5074   2557         1892  ...       21.9   1.444434       False\n",
              "3   1117   1038          478  ...        3.8   0.802333       False\n",
              "4   1633    701          679  ...        2.8   0.756586       False\n",
              "5   5651   1254         2002  ...        6.2   1.551584       False\n",
              "7   3494   1653         1442  ...        6.4   0.745775       False\n",
              "\n",
              "[5 rows x 8 columns]"
            ]
          },
          "metadata": {
            "tags": []
          },
          "execution_count": 188
        }
      ]
    },
    {
      "cell_type": "code",
      "metadata": {
        "colab": {
          "base_uri": "https://localhost:8080/"
        },
        "id": "pBk5MasoAlPU",
        "outputId": "9b025f4e-9cab-47df-d452-86b1d5f98e89"
      },
      "source": [
        "print(Xclean.mean())\n",
        "print(Xf.mean())"
      ],
      "execution_count": 189,
      "outputs": [
        {
          "output_type": "stream",
          "text": [
            "Goods          2791.758621\n",
            "Sells          1758.344828\n",
            "MarketValue     993.879310\n",
            "Profits         101.441379\n",
            "CashFlow        172.125862\n",
            "Employees        15.668966\n",
            "maha_dist         0.978244\n",
            "is_outlier        0.000000\n",
            "dtype: float64\n",
            "Goods          5940.531646\n",
            "Sells          4178.291139\n",
            "MarketValue    3269.746835\n",
            "Profits         268.289873\n",
            "CashFlow        433.455696\n",
            "Employees        37.597468\n",
            "maha_dist         1.747085\n",
            "is_outlier        0.265823\n",
            "dtype: float64\n"
          ],
          "name": "stdout"
        }
      ]
    },
    {
      "cell_type": "code",
      "metadata": {
        "id": "iJWMppMs2i9V"
      },
      "source": [
        "Xclean = Xclean.iloc[:,0:6]\n",
        "means = Xclean.mean()\n",
        "cov_matrix = Xclean.cov()\n",
        "\n",
        "mahalanobis_dist = []\n",
        "means_values = means.values\n",
        "Sx_inv = np.linalg.inv(cov_matrix)\n",
        "Sx_inv\n",
        "\n",
        "for i in range(Xclean.shape[0]):\n",
        "  mahalanobis_dist.append(distance.mahalanobis(Xclean.iloc[i,:],means_values,Sx_inv))\n",
        "\n",
        "mahalanobis_dist"
      ],
      "execution_count": null,
      "outputs": []
    },
    {
      "cell_type": "code",
      "metadata": {
        "id": "VdxDhIFzC5BT"
      },
      "source": [
        "# El límite de la distancia se conserva ya que tenemos la misma cantidad de variables.\n",
        "p = len(Xclean.columns)\n",
        "dist_limit = sc.chi2.ppf(1 - 0.95, p)\n",
        "dist_limit"
      ],
      "execution_count": null,
      "outputs": []
    },
    {
      "cell_type": "code",
      "metadata": {
        "colab": {
          "base_uri": "https://localhost:8080/"
        },
        "id": "b462t4cNC8Wb",
        "outputId": "569c0346-85b5-40ee-cc2c-db68a555d757"
      },
      "source": [
        "len(Xclean[mahalanobis_dist > dist_limit])"
      ],
      "execution_count": 196,
      "outputs": [
        {
          "output_type": "execute_result",
          "data": {
            "text/plain": [
              "33"
            ]
          },
          "metadata": {
            "tags": []
          },
          "execution_count": 196
        }
      ]
    }
  ]
}